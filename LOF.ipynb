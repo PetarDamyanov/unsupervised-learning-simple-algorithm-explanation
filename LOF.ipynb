{
 "cells": [
  {
   "cell_type": "code",
   "execution_count": 23,
   "id": "b40538dd",
   "metadata": {},
   "outputs": [],
   "source": [
    "import pandas as pd\n",
    "from sklearn import tree\n",
    "from sklearn.ensemble import IsolationForest\n",
    "import matplotlib.pyplot as plt"
   ]
  },
  {
   "cell_type": "code",
   "execution_count": 24,
   "id": "f129dbb3",
   "metadata": {},
   "outputs": [],
   "source": [
    "data_f2 = pd.read_csv(r\"example_f_2.csv\")\n",
    "data_f3 = pd.read_csv(r\"example_f_3.csv\")"
   ]
  },
  {
   "cell_type": "markdown",
   "id": "aec3e9d3",
   "metadata": {},
   "source": [
    "# Local Outlier Factor"
   ]
  },
  {
   "cell_type": "markdown",
   "id": "7fa45248",
   "metadata": {},
   "source": [
    "The Local Outlier Factor (LOF) algorithm is an unsupervised anomaly detection method which computes the local density deviation of a given data point with respect to its neighbors. It considers as outliers the samples that have a substantially lower density than their neighbors. "
   ]
  },
  {
   "cell_type": "markdown",
   "id": "3188d0cc",
   "metadata": {},
   "source": [
    "The number of neighbors considered (parameter n_neighbors) is typically set 1) greater than the minimum number of samples a cluster has to contain, so that other samples can be local outliers relative to this cluster, and 2) smaller than the maximum number of close by samples that can potentially be local outliers."
   ]
  },
  {
   "cell_type": "code",
   "execution_count": 25,
   "id": "b700900d",
   "metadata": {},
   "outputs": [
    {
     "data": {
      "text/plain": [
       "<AxesSubplot:xlabel='f1', ylabel='f2'>"
      ]
     },
     "execution_count": 25,
     "metadata": {},
     "output_type": "execute_result"
    },
    {
     "data": {
      "image/png": "[encoded data removed]",
      "text/plain": [
       "<Figure size 432x288 with 1 Axes>"
      ]
     },
     "metadata": {
      "needs_background": "light"
     },
     "output_type": "display_data"
    }
   ],
   "source": [
    "data_f2.plot.scatter(x='f1', y='f2')"
   ]
  },
  {
   "cell_type": "code",
   "execution_count": 26,
   "id": "40f52aa0",
   "metadata": {},
   "outputs": [],
   "source": [
    "from sklearn.neighbors import LocalOutlierFactor"
   ]
  },
  {
   "cell_type": "code",
   "execution_count": 35,
   "id": "f367e335",
   "metadata": {},
   "outputs": [],
   "source": [
    "clf = LocalOutlierFactor(n_neighbors=1, contamination=0.1)"
   ]
  },
  {
   "cell_type": "code",
   "execution_count": 36,
   "id": "1ca8cff3",
   "metadata": {},
   "outputs": [],
   "source": [
    "y_pred = clf.fit_predict(data_f2)\n",
    "X_scores = clf.negative_outlier_factor_"
   ]
  },
  {
   "cell_type": "code",
   "execution_count": 37,
   "id": "4faee8fe",
   "metadata": {},
   "outputs": [
    {
     "data": {
      "text/plain": [
       "<matplotlib.collections.PathCollection at 0x1629d0c0580>"
      ]
     },
     "execution_count": 37,
     "metadata": {},
     "output_type": "execute_result"
    },
    {
     "data": {
      "image/png": "[encoded data removed]",
      "text/plain": [
       "<Figure size 432x288 with 1 Axes>"
      ]
     },
     "metadata": {
      "needs_background": "light"
     },
     "output_type": "display_data"
    }
   ],
   "source": [
    "plt.title(\"Local Outlier Factor (LOF)\")\n",
    "plt.scatter(data_f2.iloc[:, 0], data_f2.iloc[:, 1], color=\"k\", s=3.0, label=\"Data points\")\n",
    "# plot circles with radius proportional to the outlier scores\n",
    "radius = (X_scores.max() - X_scores) / (X_scores.max() - X_scores.min())\n",
    "plt.scatter(\n",
    "    data_f2.iloc[:, 0],\n",
    "    data_f2.iloc[:, 1],\n",
    "    s=1000 * radius,\n",
    "    edgecolors=\"r\",\n",
    "    facecolors=\"none\",\n",
    "    label=\"Outlier scores\",\n",
    ")"
   ]
  },
  {
   "cell_type": "markdown",
   "id": "25839a3f",
   "metadata": {},
   "source": [
    "## Example explanation"
   ]
  },
  {
   "cell_type": "markdown",
   "id": "185cbfcb",
   "metadata": {},
   "source": [
    "LOF is really good when there are clusters of points. This example is not great but is good to visualize. In this case lof considers everything  that doesnt have at least one neighbor. For each point it finds the neighbor points in a range."
   ]
  },
  {
   "cell_type": "code",
   "execution_count": null,
   "id": "38435af3",
   "metadata": {},
   "outputs": [],
   "source": []
  }
 ],
 "metadata": {
  "kernelspec": {
   "display_name": "Python 3 (ipykernel)",
   "language": "python",
   "name": "python3"
  },
  "language_info": {
   "codemirror_mode": {
    "name": "ipython",
    "version": 3
   },
   "file_extension": ".py",
   "mimetype": "text/x-python",
   "name": "python",
   "nbconvert_exporter": "python",
   "pygments_lexer": "ipython3",
   "version": "3.9.12"
  }
 },
 "nbformat": 4,
 "nbformat_minor": 5
}
