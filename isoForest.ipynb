{
 "cells": [
  {
   "cell_type": "code",
   "execution_count": 12,
   "id": "e5057f60",
   "metadata": {},
   "outputs": [],
   "source": [
    "import pandas as pd\n",
    "from sklearn import tree\n",
    "from sklearn.ensemble import IsolationForest\n",
    "import matplotlib.pyplot as plt"
   ]
  },
  {
   "cell_type": "code",
   "execution_count": 2,
   "id": "9c581e90",
   "metadata": {},
   "outputs": [],
   "source": [
    "data_f2 = pd.read_csv(r\"example_f_2.csv\")\n",
    "data_f3 = pd.read_csv(r\"example_f_3.csv\")"
   ]
  },
  {
   "cell_type": "markdown",
   "id": "4a2af510",
   "metadata": {},
   "source": [
    "# Isolation Forest for dummies"
   ]
  },
  {
   "cell_type": "markdown",
   "id": "9320df1e",
   "metadata": {},
   "source": [
    "Isolation Forests(IF), similar to Random Forests, are build based on decision trees. And since there are no pre-defined labels here, it is an unsupervised model."
   ]
  },
  {
   "cell_type": "markdown",
   "id": "9eb273d7",
   "metadata": {},
   "source": [
    "IsolationForests were built based on the fact that anomalies are the data points that are “few and different”."
   ]
  },
  {
   "cell_type": "markdown",
   "id": "ea8afb3a",
   "metadata": {},
   "source": [
    "In an Isolation Forest, randomly sub-sampled data is processed in a tree structure based on randomly selected features. The samples that travel deeper into the tree are less likely to be anomalies as they required more cuts to isolate them. Similarly, the samples which end up in shorter branches indicate anomalies as it was easier for the tree to separate them from other observations."
   ]
  },
  {
   "cell_type": "markdown",
   "id": "6074eed7",
   "metadata": {},
   "source": [
    "## ITree"
   ]
  },
  {
   "cell_type": "markdown",
   "id": "6e8da0fb",
   "metadata": {},
   "source": [
    "## Binary Search Tree (BST)"
   ]
  },
  {
   "cell_type": "markdown",
   "id": "169f5639",
   "metadata": {},
   "source": [
    "Binary Search Tree is a node-based binary tree data structure which has the following properties:\n",
    "\n",
    "    - The left subtree of a node contains only nodes with keys lesser than the node’s key.\n",
    "    - The right subtree of a node contains only nodes with keys greater than the node’s key.\n",
    "    - The left and right subtree each must also be a binary search tree."
   ]
  },
  {
   "attachments": {
    "image.png": {
     "image/png": "[encoded data removed]"
    }
   },
   "cell_type": "markdown",
   "id": "b020843f",
   "metadata": {},
   "source": [
    "![image.png](attachment:image.png)"
   ]
  },
  {
   "cell_type": "markdown",
   "id": "47629e10",
   "metadata": {},
   "source": [
    "## Building the ITree"
   ]
  },
  {
   "cell_type": "markdown",
   "id": "448e91e8",
   "metadata": {},
   "source": [
    "Algotihm:<br>\n",
    ">1. Take a random sub-sample of the data.<br>\n",
    ">2. Build nodes:<br>\n",
    ">>2.1. Select a <b>random</b> feature<br>\n",
    ">>2.2. Select a <b>random</b> treshold $$t ∈ [min; max]$$\n",
    ">>2.3. Branching: \n",
    ">>>left node - $data<=t$ <br>\n",
    ">>>right node - $data>t$\n",
    "\n",
    "This process is repeated till each data point form the sub-set is completly isolated or till max depth(we dont use but just for information) is reached"
   ]
  },
  {
   "cell_type": "markdown",
   "id": "4beaf67c",
   "metadata": {},
   "source": [
    "## Example"
   ]
  },
  {
   "cell_type": "code",
   "execution_count": 3,
   "id": "1944a394",
   "metadata": {},
   "outputs": [
    {
     "data": {
      "text/html": [
       "<div>\n",
       "<style scoped>\n",
       "    .dataframe tbody tr th:only-of-type {\n",
       "        vertical-align: middle;\n",
       "    }\n",
       "\n",
       "    .dataframe tbody tr th {\n",
       "        vertical-align: top;\n",
       "    }\n",
       "\n",
       "    .dataframe thead th {\n",
       "        text-align: right;\n",
       "    }\n",
       "</style>\n",
       "<table border=\"1\" class=\"dataframe\">\n",
       "  <thead>\n",
       "    <tr style=\"text-align: right;\">\n",
       "      <th></th>\n",
       "      <th>f1</th>\n",
       "      <th>f2</th>\n",
       "    </tr>\n",
       "  </thead>\n",
       "  <tbody>\n",
       "    <tr>\n",
       "      <th>0</th>\n",
       "      <td>0</td>\n",
       "      <td>1</td>\n",
       "    </tr>\n",
       "    <tr>\n",
       "      <th>1</th>\n",
       "      <td>0</td>\n",
       "      <td>1</td>\n",
       "    </tr>\n",
       "    <tr>\n",
       "      <th>2</th>\n",
       "      <td>1</td>\n",
       "      <td>2</td>\n",
       "    </tr>\n",
       "    <tr>\n",
       "      <th>3</th>\n",
       "      <td>1</td>\n",
       "      <td>2</td>\n",
       "    </tr>\n",
       "    <tr>\n",
       "      <th>4</th>\n",
       "      <td>2</td>\n",
       "      <td>3</td>\n",
       "    </tr>\n",
       "    <tr>\n",
       "      <th>5</th>\n",
       "      <td>2</td>\n",
       "      <td>3</td>\n",
       "    </tr>\n",
       "    <tr>\n",
       "      <th>6</th>\n",
       "      <td>3</td>\n",
       "      <td>4</td>\n",
       "    </tr>\n",
       "    <tr>\n",
       "      <th>7</th>\n",
       "      <td>3</td>\n",
       "      <td>4</td>\n",
       "    </tr>\n",
       "    <tr>\n",
       "      <th>8</th>\n",
       "      <td>4</td>\n",
       "      <td>5</td>\n",
       "    </tr>\n",
       "    <tr>\n",
       "      <th>9</th>\n",
       "      <td>4</td>\n",
       "      <td>5</td>\n",
       "    </tr>\n",
       "    <tr>\n",
       "      <th>10</th>\n",
       "      <td>10</td>\n",
       "      <td>10</td>\n",
       "    </tr>\n",
       "  </tbody>\n",
       "</table>\n",
       "</div>"
      ],
      "text/plain": [
       "    f1  f2\n",
       "0    0   1\n",
       "1    0   1\n",
       "2    1   2\n",
       "3    1   2\n",
       "4    2   3\n",
       "5    2   3\n",
       "6    3   4\n",
       "7    3   4\n",
       "8    4   5\n",
       "9    4   5\n",
       "10  10  10"
      ]
     },
     "execution_count": 3,
     "metadata": {},
     "output_type": "execute_result"
    }
   ],
   "source": [
    "data_f2"
   ]
  },
  {
   "cell_type": "code",
   "execution_count": 11,
   "id": "144e12e4",
   "metadata": {},
   "outputs": [],
   "source": [
    "iso_f2 = IsolationForest().fit(data_f2)"
   ]
  },
  {
   "cell_type": "code",
   "execution_count": 13,
   "id": "188ffa52",
   "metadata": {},
   "outputs": [
    {
     "data": {
      "text/plain": [
       "[Text(0.5, 0.9, 'f2 <= 4.91\\nsamples = 11\\nvalue = 0.444'),\n",
       " Text(0.25, 0.7, 'f2 <= 1.147\\nsamples = 8\\nvalue = 0.568'),\n",
       " Text(0.125, 0.5, 'samples = 2\\nvalue = 0.979'),\n",
       " Text(0.375, 0.5, 'f2 <= 2.386\\nsamples = 6\\nvalue = 0.431'),\n",
       " Text(0.25, 0.3, 'samples = 2\\nvalue = 0.129'),\n",
       " Text(0.5, 0.3, 'f2 <= 4.0\\nsamples = 4\\nvalue = 0.582'),\n",
       " Text(0.375, 0.1, 'samples = 2\\nvalue = 0.645'),\n",
       " Text(0.625, 0.1, 'samples = 2\\nvalue = 0.519'),\n",
       " Text(0.75, 0.7, 'f2 <= 5.562\\nsamples = 3\\nvalue = 0.115'),\n",
       " Text(0.625, 0.5, 'samples = 2\\nvalue = 0.083'),\n",
       " Text(0.875, 0.5, 'samples = 1\\nvalue = 0.178')]"
      ]
     },
     "execution_count": 13,
     "metadata": {},
     "output_type": "execute_result"
    },
    {
     "data": {
      "image/png": "[encoded data removed]",
      "text/plain": [
       "<Figure size 360x720 with 1 Axes>"
      ]
     },
     "metadata": {
      "needs_background": "light"
     },
     "output_type": "display_data"
    }
   ],
   "source": [
    "plt.figure(figsize=[5,10])\n",
    "tree.plot_tree(iso_f2.estimators_[0], impurity=False, feature_names=['f1', 'f2'])"
   ]
  },
  {
   "cell_type": "markdown",
   "id": "2af8a276",
   "metadata": {},
   "source": [
    "## Example 2"
   ]
  },
  {
   "cell_type": "code",
   "execution_count": 14,
   "id": "3cc8c987",
   "metadata": {},
   "outputs": [
    {
     "data": {
      "text/html": [
       "<div>\n",
       "<style scoped>\n",
       "    .dataframe tbody tr th:only-of-type {\n",
       "        vertical-align: middle;\n",
       "    }\n",
       "\n",
       "    .dataframe tbody tr th {\n",
       "        vertical-align: top;\n",
       "    }\n",
       "\n",
       "    .dataframe thead th {\n",
       "        text-align: right;\n",
       "    }\n",
       "</style>\n",
       "<table border=\"1\" class=\"dataframe\">\n",
       "  <thead>\n",
       "    <tr style=\"text-align: right;\">\n",
       "      <th></th>\n",
       "      <th>f1</th>\n",
       "      <th>f2</th>\n",
       "      <th>f3</th>\n",
       "    </tr>\n",
       "  </thead>\n",
       "  <tbody>\n",
       "    <tr>\n",
       "      <th>0</th>\n",
       "      <td>0</td>\n",
       "      <td>1</td>\n",
       "      <td>2</td>\n",
       "    </tr>\n",
       "    <tr>\n",
       "      <th>1</th>\n",
       "      <td>0</td>\n",
       "      <td>1</td>\n",
       "      <td>2</td>\n",
       "    </tr>\n",
       "    <tr>\n",
       "      <th>2</th>\n",
       "      <td>1</td>\n",
       "      <td>2</td>\n",
       "      <td>3</td>\n",
       "    </tr>\n",
       "    <tr>\n",
       "      <th>3</th>\n",
       "      <td>1</td>\n",
       "      <td>2</td>\n",
       "      <td>3</td>\n",
       "    </tr>\n",
       "    <tr>\n",
       "      <th>4</th>\n",
       "      <td>2</td>\n",
       "      <td>3</td>\n",
       "      <td>4</td>\n",
       "    </tr>\n",
       "    <tr>\n",
       "      <th>5</th>\n",
       "      <td>2</td>\n",
       "      <td>3</td>\n",
       "      <td>4</td>\n",
       "    </tr>\n",
       "    <tr>\n",
       "      <th>6</th>\n",
       "      <td>3</td>\n",
       "      <td>4</td>\n",
       "      <td>5</td>\n",
       "    </tr>\n",
       "    <tr>\n",
       "      <th>7</th>\n",
       "      <td>3</td>\n",
       "      <td>4</td>\n",
       "      <td>5</td>\n",
       "    </tr>\n",
       "    <tr>\n",
       "      <th>8</th>\n",
       "      <td>4</td>\n",
       "      <td>5</td>\n",
       "      <td>6</td>\n",
       "    </tr>\n",
       "    <tr>\n",
       "      <th>9</th>\n",
       "      <td>4</td>\n",
       "      <td>5</td>\n",
       "      <td>6</td>\n",
       "    </tr>\n",
       "    <tr>\n",
       "      <th>10</th>\n",
       "      <td>10</td>\n",
       "      <td>10</td>\n",
       "      <td>10</td>\n",
       "    </tr>\n",
       "  </tbody>\n",
       "</table>\n",
       "</div>"
      ],
      "text/plain": [
       "    f1  f2  f3\n",
       "0    0   1   2\n",
       "1    0   1   2\n",
       "2    1   2   3\n",
       "3    1   2   3\n",
       "4    2   3   4\n",
       "5    2   3   4\n",
       "6    3   4   5\n",
       "7    3   4   5\n",
       "8    4   5   6\n",
       "9    4   5   6\n",
       "10  10  10  10"
      ]
     },
     "execution_count": 14,
     "metadata": {},
     "output_type": "execute_result"
    }
   ],
   "source": [
    "data_f3"
   ]
  },
  {
   "cell_type": "code",
   "execution_count": 15,
   "id": "75ab3b39",
   "metadata": {},
   "outputs": [],
   "source": [
    "iso_f3 = IsolationForest().fit(data_f3)"
   ]
  },
  {
   "cell_type": "code",
   "execution_count": 16,
   "id": "a7d72d4a",
   "metadata": {},
   "outputs": [
    {
     "data": {
      "text/plain": [
       "[Text(0.5555555555555556, 0.9, 'f2 <= 9.236\\nsamples = 11\\nvalue = 0.545'),\n",
       " Text(0.4444444444444444, 0.7, 'f3 <= 3.445\\nsamples = 10\\nvalue = 0.536'),\n",
       " Text(0.2222222222222222, 0.5, 'f1 <= 0.52\\nsamples = 4\\nvalue = 0.489'),\n",
       " Text(0.1111111111111111, 0.3, 'samples = 2\\nvalue = 0.357'),\n",
       " Text(0.3333333333333333, 0.3, 'samples = 2\\nvalue = 0.621'),\n",
       " Text(0.6666666666666666, 0.5, 'f2 <= 3.079\\nsamples = 6\\nvalue = 0.567'),\n",
       " Text(0.5555555555555556, 0.3, 'samples = 2\\nvalue = 0.442'),\n",
       " Text(0.7777777777777778, 0.3, 'f1 <= 3.489\\nsamples = 4\\nvalue = 0.63'),\n",
       " Text(0.6666666666666666, 0.1, 'samples = 2\\nvalue = 0.474'),\n",
       " Text(0.8888888888888888, 0.1, 'samples = 2\\nvalue = 0.786'),\n",
       " Text(0.6666666666666666, 0.7, 'samples = 1\\nvalue = 0.636')]"
      ]
     },
     "execution_count": 16,
     "metadata": {},
     "output_type": "execute_result"
    },
    {
     "data": {
      "image/png": "[encoded data removed]",
      "text/plain": [
       "<Figure size 360x720 with 1 Axes>"
      ]
     },
     "metadata": {
      "needs_background": "light"
     },
     "output_type": "display_data"
    }
   ],
   "source": [
    "plt.figure(figsize=[5,10])\n",
    "tree.plot_tree(iso_f3.estimators_[0], impurity=False, feature_names=['f1', 'f2', 'f3'])"
   ]
  },
  {
   "cell_type": "markdown",
   "id": "4532870c",
   "metadata": {},
   "source": [
    "## Isolation Forest algorithm"
   ]
  },
  {
   "cell_type": "markdown",
   "id": "a70f3656",
   "metadata": {},
   "source": [
    "Isolation forest creates n iTrees the default n_estimators is 100 from skelarn. The algorithm will create a forest of 100 itrees in in this case."
   ]
  },
  {
   "cell_type": "markdown",
   "id": "292518af",
   "metadata": {},
   "source": [
    "## Anomaly score"
   ]
  },
  {
   "attachments": {
    "image-2.png": {
     "image/png": "[encoded data removed]"
    }
   },
   "cell_type": "markdown",
   "id": "9d8daab8",
   "metadata": {},
   "source": [
    "The algorithm for computing the anomaly score of a data point is based on the observation that the structure of iTrees is equivalent to that of Binary Search Trees (BST): a termination to an external node of the iTree corresponds to an unsuccessful search in the BST. As a consequence, the estimation of average $h(x)$ for external node terminations is the same as that of the unsuccessful searches in BST, that is\n",
    "![image-2.png](attachment:image-2.png)\n",
    "where $n$ is the testing data size, $m$ is the size of the sample set and $H$ is the harmonic number, which can be estimated by $ H ( i ) = l n ( i ) + γ $, where $γ = 0.5772156649$ is the Euler-Mascheroni constant."
   ]
  },
  {
   "cell_type": "markdown",
   "id": "2192448b",
   "metadata": {},
   "source": [
    "The value of $c(m)$ above represents the average of $h ( x )$ given $m$, so we can use it to normalise $h ( x )$ and get an estimation of the anomaly score for a given instance x:\n",
    "\n",
    "$$s ( x , m ) = 2 − E ( h ( x ) ) c ( m ) $$\n",
    "\n",
    "where $E ( h ( x ) )$ is the average value of $h ( x )$ from a collection of iTrees. It is interesting to note that for any given instance $x$:\n",
    "\n",
    ">if $s$ is close to 1 then $x$ is very likely to be an anomaly<br>\n",
    ">if $s$ is smaller than 0.5 then $x$ is likely to be a normal value<br>\n",
    ">if for a given sample all instances are assigned an anomaly score of around 0.5, then it is safe to assume that the sample doesn't have any anomaly"
   ]
  },
  {
   "cell_type": "markdown",
   "id": "a78c5654",
   "metadata": {},
   "source": [
    "## Example "
   ]
  },
  {
   "cell_type": "code",
   "execution_count": 19,
   "id": "879ed99f",
   "metadata": {},
   "outputs": [
    {
     "name": "stdout",
     "output_type": "stream",
     "text": [
      "100\n"
     ]
    },
    {
     "data": {
      "text/html": [
       "<div>\n",
       "<style scoped>\n",
       "    .dataframe tbody tr th:only-of-type {\n",
       "        vertical-align: middle;\n",
       "    }\n",
       "\n",
       "    .dataframe tbody tr th {\n",
       "        vertical-align: top;\n",
       "    }\n",
       "\n",
       "    .dataframe thead th {\n",
       "        text-align: right;\n",
       "    }\n",
       "</style>\n",
       "<table border=\"1\" class=\"dataframe\">\n",
       "  <thead>\n",
       "    <tr style=\"text-align: right;\">\n",
       "      <th></th>\n",
       "      <th>f1</th>\n",
       "      <th>f2</th>\n",
       "      <th>score</th>\n",
       "      <th>anomaly</th>\n",
       "    </tr>\n",
       "  </thead>\n",
       "  <tbody>\n",
       "    <tr>\n",
       "      <th>0</th>\n",
       "      <td>0</td>\n",
       "      <td>1</td>\n",
       "      <td>-0.030423</td>\n",
       "      <td>-1</td>\n",
       "    </tr>\n",
       "    <tr>\n",
       "      <th>1</th>\n",
       "      <td>0</td>\n",
       "      <td>1</td>\n",
       "      <td>-0.030423</td>\n",
       "      <td>-1</td>\n",
       "    </tr>\n",
       "    <tr>\n",
       "      <th>2</th>\n",
       "      <td>1</td>\n",
       "      <td>2</td>\n",
       "      <td>0.045597</td>\n",
       "      <td>1</td>\n",
       "    </tr>\n",
       "    <tr>\n",
       "      <th>3</th>\n",
       "      <td>1</td>\n",
       "      <td>2</td>\n",
       "      <td>0.045597</td>\n",
       "      <td>1</td>\n",
       "    </tr>\n",
       "    <tr>\n",
       "      <th>4</th>\n",
       "      <td>2</td>\n",
       "      <td>3</td>\n",
       "      <td>0.062043</td>\n",
       "      <td>1</td>\n",
       "    </tr>\n",
       "    <tr>\n",
       "      <th>5</th>\n",
       "      <td>2</td>\n",
       "      <td>3</td>\n",
       "      <td>0.062043</td>\n",
       "      <td>1</td>\n",
       "    </tr>\n",
       "    <tr>\n",
       "      <th>6</th>\n",
       "      <td>3</td>\n",
       "      <td>4</td>\n",
       "      <td>0.058636</td>\n",
       "      <td>1</td>\n",
       "    </tr>\n",
       "    <tr>\n",
       "      <th>7</th>\n",
       "      <td>3</td>\n",
       "      <td>4</td>\n",
       "      <td>0.058636</td>\n",
       "      <td>1</td>\n",
       "    </tr>\n",
       "    <tr>\n",
       "      <th>8</th>\n",
       "      <td>4</td>\n",
       "      <td>5</td>\n",
       "      <td>0.013371</td>\n",
       "      <td>1</td>\n",
       "    </tr>\n",
       "    <tr>\n",
       "      <th>9</th>\n",
       "      <td>4</td>\n",
       "      <td>5</td>\n",
       "      <td>0.013371</td>\n",
       "      <td>1</td>\n",
       "    </tr>\n",
       "    <tr>\n",
       "      <th>10</th>\n",
       "      <td>10</td>\n",
       "      <td>10</td>\n",
       "      <td>-0.261408</td>\n",
       "      <td>-1</td>\n",
       "    </tr>\n",
       "  </tbody>\n",
       "</table>\n",
       "</div>"
      ],
      "text/plain": [
       "    f1  f2     score  anomaly\n",
       "0    0   1 -0.030423       -1\n",
       "1    0   1 -0.030423       -1\n",
       "2    1   2  0.045597        1\n",
       "3    1   2  0.045597        1\n",
       "4    2   3  0.062043        1\n",
       "5    2   3  0.062043        1\n",
       "6    3   4  0.058636        1\n",
       "7    3   4  0.058636        1\n",
       "8    4   5  0.013371        1\n",
       "9    4   5  0.013371        1\n",
       "10  10  10 -0.261408       -1"
      ]
     },
     "execution_count": 19,
     "metadata": {},
     "output_type": "execute_result"
    }
   ],
   "source": [
    "df = data_f2.copy()\n",
    "df['score'] = iso_f2.decision_function(data_f2)\n",
    "df['anomaly'] = iso_f2.predict(data_f2)\n",
    "print(len(iso_f2.estimators_))\n",
    "df"
   ]
  },
  {
   "cell_type": "code",
   "execution_count": 20,
   "id": "7030ee8e",
   "metadata": {},
   "outputs": [
    {
     "name": "stdout",
     "output_type": "stream",
     "text": [
      "1\n"
     ]
    },
    {
     "data": {
      "text/plain": [
       "[Text(0.6, 0.9, 'f1 <= 3.245\\nsamples = 11\\nvalue = 0.53'),\n",
       " Text(0.4, 0.7, 'f2 <= 3.602\\nsamples = 8\\nvalue = 0.597'),\n",
       " Text(0.3, 0.5, 'f2 <= 2.29\\nsamples = 6\\nvalue = 0.707'),\n",
       " Text(0.2, 0.3, 'f1 <= 0.081\\nsamples = 4\\nvalue = 0.662'),\n",
       " Text(0.1, 0.1, 'samples = 2\\nvalue = 0.6'),\n",
       " Text(0.3, 0.1, 'samples = 2\\nvalue = 0.725'),\n",
       " Text(0.4, 0.3, 'samples = 2\\nvalue = 0.797'),\n",
       " Text(0.5, 0.5, 'samples = 2\\nvalue = 0.266'),\n",
       " Text(0.8, 0.7, 'f2 <= 7.392\\nsamples = 3\\nvalue = 0.352'),\n",
       " Text(0.7, 0.5, 'samples = 2\\nvalue = 0.468'),\n",
       " Text(0.9, 0.5, 'samples = 1\\nvalue = 0.12')]"
      ]
     },
     "execution_count": 20,
     "metadata": {},
     "output_type": "execute_result"
    },
    {
     "data": {
      "image/png": "[encoded data removed]",
      "text/plain": [
       "<Figure size 360x720 with 1 Axes>"
      ]
     },
     "metadata": {
      "needs_background": "light"
     },
     "output_type": "display_data"
    }
   ],
   "source": [
    "df = data_f2.copy()\n",
    "iso_f2 = IsolationForest(n_estimators=1).fit(data_f2)\n",
    "df['score'] = iso_f2.decision_function(data_f2)\n",
    "df['anomaly'] = iso_f2.predict(data_f2)\n",
    "print(len(iso_f2.estimators_))\n",
    "df\n",
    "plt.figure(figsize=[5,10])\n",
    "tree.plot_tree(iso_f2.estimators_[0], impurity=False, feature_names=['f1', 'f2'])"
   ]
  },
  {
   "cell_type": "code",
   "execution_count": 21,
   "id": "1cf82292",
   "metadata": {},
   "outputs": [
    {
     "data": {
      "text/html": [
       "<div>\n",
       "<style scoped>\n",
       "    .dataframe tbody tr th:only-of-type {\n",
       "        vertical-align: middle;\n",
       "    }\n",
       "\n",
       "    .dataframe tbody tr th {\n",
       "        vertical-align: top;\n",
       "    }\n",
       "\n",
       "    .dataframe thead th {\n",
       "        text-align: right;\n",
       "    }\n",
       "</style>\n",
       "<table border=\"1\" class=\"dataframe\">\n",
       "  <thead>\n",
       "    <tr style=\"text-align: right;\">\n",
       "      <th></th>\n",
       "      <th>f1</th>\n",
       "      <th>f2</th>\n",
       "      <th>score</th>\n",
       "      <th>anomaly</th>\n",
       "    </tr>\n",
       "  </thead>\n",
       "  <tbody>\n",
       "    <tr>\n",
       "      <th>0</th>\n",
       "      <td>0</td>\n",
       "      <td>1</td>\n",
       "      <td>0.084931</td>\n",
       "      <td>1</td>\n",
       "    </tr>\n",
       "    <tr>\n",
       "      <th>1</th>\n",
       "      <td>0</td>\n",
       "      <td>1</td>\n",
       "      <td>0.084931</td>\n",
       "      <td>1</td>\n",
       "    </tr>\n",
       "    <tr>\n",
       "      <th>2</th>\n",
       "      <td>1</td>\n",
       "      <td>2</td>\n",
       "      <td>0.084931</td>\n",
       "      <td>1</td>\n",
       "    </tr>\n",
       "    <tr>\n",
       "      <th>3</th>\n",
       "      <td>1</td>\n",
       "      <td>2</td>\n",
       "      <td>0.084931</td>\n",
       "      <td>1</td>\n",
       "    </tr>\n",
       "    <tr>\n",
       "      <th>4</th>\n",
       "      <td>2</td>\n",
       "      <td>3</td>\n",
       "      <td>0.005125</td>\n",
       "      <td>1</td>\n",
       "    </tr>\n",
       "    <tr>\n",
       "      <th>5</th>\n",
       "      <td>2</td>\n",
       "      <td>3</td>\n",
       "      <td>0.005125</td>\n",
       "      <td>1</td>\n",
       "    </tr>\n",
       "    <tr>\n",
       "      <th>6</th>\n",
       "      <td>3</td>\n",
       "      <td>4</td>\n",
       "      <td>-0.090027</td>\n",
       "      <td>-1</td>\n",
       "    </tr>\n",
       "    <tr>\n",
       "      <th>7</th>\n",
       "      <td>3</td>\n",
       "      <td>4</td>\n",
       "      <td>-0.090027</td>\n",
       "      <td>-1</td>\n",
       "    </tr>\n",
       "    <tr>\n",
       "      <th>8</th>\n",
       "      <td>4</td>\n",
       "      <td>5</td>\n",
       "      <td>-0.090027</td>\n",
       "      <td>-1</td>\n",
       "    </tr>\n",
       "    <tr>\n",
       "      <th>9</th>\n",
       "      <td>4</td>\n",
       "      <td>5</td>\n",
       "      <td>-0.090027</td>\n",
       "      <td>-1</td>\n",
       "    </tr>\n",
       "    <tr>\n",
       "      <th>10</th>\n",
       "      <td>10</td>\n",
       "      <td>10</td>\n",
       "      <td>-0.203474</td>\n",
       "      <td>-1</td>\n",
       "    </tr>\n",
       "  </tbody>\n",
       "</table>\n",
       "</div>"
      ],
      "text/plain": [
       "    f1  f2     score  anomaly\n",
       "0    0   1  0.084931        1\n",
       "1    0   1  0.084931        1\n",
       "2    1   2  0.084931        1\n",
       "3    1   2  0.084931        1\n",
       "4    2   3  0.005125        1\n",
       "5    2   3  0.005125        1\n",
       "6    3   4 -0.090027       -1\n",
       "7    3   4 -0.090027       -1\n",
       "8    4   5 -0.090027       -1\n",
       "9    4   5 -0.090027       -1\n",
       "10  10  10 -0.203474       -1"
      ]
     },
     "execution_count": 21,
     "metadata": {},
     "output_type": "execute_result"
    }
   ],
   "source": [
    "df\n"
   ]
  },
  {
   "cell_type": "markdown",
   "id": "344393e6",
   "metadata": {},
   "source": [
    "### Explanation"
   ]
  },
  {
   "cell_type": "markdown",
   "id": "ddf16dfe",
   "metadata": {},
   "source": [
    "Why are these ouliers?\n",
    "This a bit of a bad example because of the randomnes using only one estimator will give you random outliers but visual is okay we can see the tree and we can see how it makes decision. It gives score to all points on the base of how much does it need to go in depth in the tree to make the point. The points that are closer to the root(aka the first node) and who dont have child nodes(last nodes) are consider outliers"
   ]
  },
  {
   "cell_type": "markdown",
   "id": "81ca1917",
   "metadata": {},
   "source": [
    "In this example it will consider otulier does who are:\n",
    "    on the right f1>3.245 then it splits to f2<=7.39 and f2>7.39 but both are outliers\n",
    "    on the left f1<=3.245 (f1==3 goes in here) and f2>3.6 are outliers because are closest to the top"
   ]
  },
  {
   "cell_type": "markdown",
   "id": "f6d6aca4",
   "metadata": {},
   "source": [
    "# Notes"
   ]
  },
  {
   "cell_type": "markdown",
   "id": "f3e1319d",
   "metadata": {},
   "source": [
    "## Standartization and normalization"
   ]
  },
  {
   "cell_type": "markdown",
   "id": "2af1adfc",
   "metadata": {},
   "source": [
    "Here they are not important because of how the tree is build.\n",
    "Since each node is related to a feature and the treshold is choosed on the min/max value of the feature. The node doesnt care if it will pick a value from -inf to +inf or -1 to 1. The Standartization shouldnt change the result."
   ]
  },
  {
   "cell_type": "code",
   "execution_count": null,
   "id": "ce277232",
   "metadata": {},
   "outputs": [],
   "source": []
  }
 ],
 "metadata": {
  "kernelspec": {
   "display_name": "Python 3 (ipykernel)",
   "language": "python",
   "name": "python3"
  },
  "language_info": {
   "codemirror_mode": {
    "name": "ipython",
    "version": 3
   },
   "file_extension": ".py",
   "mimetype": "text/x-python",
   "name": "python",
   "nbconvert_exporter": "python",
   "pygments_lexer": "ipython3",
   "version": "3.9.12"
  }
 },
 "nbformat": 4,
 "nbformat_minor": 5
}
